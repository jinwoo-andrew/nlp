{
 "cells": [
  {
   "cell_type": "markdown",
   "id": "14d865de-add9-4958-94f7-528f812426aa",
   "metadata": {},
   "source": [
    "# Sentiment Analysis: Twitter Message Review"
   ]
  },
  {
   "cell_type": "markdown",
   "id": "422a60fc-bd71-4a52-98d6-699a32d83b29",
   "metadata": {},
   "source": [
    "### Naive Bayes Algorithm"
   ]
  },
  {
   "cell_type": "markdown",
   "id": "11744222-fc69-41ff-9bff-db40cf7b070e",
   "metadata": {},
   "source": [
    "**Advisor:** Ruiqi Zhong\n",
    "\n",
    "**Collaborators:** JinWoo Ahn"
   ]
  },
  {
   "cell_type": "markdown",
   "id": "83fd18ac-8287-4526-908f-99208eb3b275",
   "metadata": {},
   "source": [
    "This **Twitter Sentiment Analysis project** is focused on evaluating the messages and entities on a **real-world Twitter dataset,** an internet platform where users are open to share their personal opinions on matters that range from, but not limited to, politics, education, social, etc.\n",
    "\n",
    "When companies and institutions seek to understand public opinion, they often perform **sentiment analysis** to recognize the thoughts about a certain topic.\n",
    "\n",
    "The dataset contains of **three distinct classes: positive, negative, and netural.** The messages that are considered to be irrelevant are classified as neutral."
   ]
  },
  {
   "cell_type": "markdown",
   "id": "e923ed26-2d0f-4996-bf36-dde1e87e2a38",
   "metadata": {},
   "source": [
    "## Stage 1: Initial Analysis ##"
   ]
  },
  {
   "cell_type": "code",
   "execution_count": 2,
   "id": "1fce85af-78db-4127-a7ed-d6108a821b3f",
   "metadata": {},
   "outputs": [],
   "source": [
    "# Load the tools that will be utilized\n",
    "import numpy as np\n",
    "import pandas as pd\n",
    "import nltk\n",
    "from sklearn.naive_bayes import MultinomialNB\n",
    "from sklearn.naive_bayes import BernoulliNB\n",
    "from sklearn.feature_extraction.text import CountVectorizer\n",
    "\n",
    "import matplotlib.pyplot as plt\n",
    "%matplotlib inline\n",
    "\n",
    "import seaborn as sns\n",
    "sns.set(style = \"whitegrid\", \n",
    "        color_codes = True,\n",
    "        font_scale = 1.5)"
   ]
  },
  {
   "cell_type": "markdown",
   "id": "f04e7e8a-cf11-4344-976d-42e36991ff2d",
   "metadata": {},
   "source": [
    "### Loading in the Data ###"
   ]
  },
  {
   "cell_type": "markdown",
   "id": "f1b6e42c-4571-4083-b718-a871f07b71aa",
   "metadata": {},
   "source": [
    "Before we apply any techniques or perform analysis on the dataset, it is important for us to accurately obtain the data in the correct format so that it does not cause troubles in the future.\n",
    "\n",
    "The dataset is from [Kaggle](https://www.kaggle.com/datasets/jp797498e/twitter-entity-sentiment-analysis). It consists of a training set and validation set of which the **graularity of the data is a message to each entity.** Each row contains the following information: **Twitter ID, entity, class, and the actual message.**"
   ]
  },
  {
   "cell_type": "code",
   "execution_count": 79,
   "id": "39276f72-0d2f-470f-920f-5b579fd2e072",
   "metadata": {},
   "outputs": [],
   "source": [
    "# Import the zipfile tools and extract the files within the data.zip file\n",
    "import zipfile\n",
    "with zipfile.ZipFile('data.zip') as item:\n",
    "    item.extractall()"
   ]
  },
  {
   "cell_type": "code",
   "execution_count": 80,
   "id": "62808c0e-a182-4686-9205-00c1dba0404f",
   "metadata": {},
   "outputs": [
    {
     "data": {
      "text/html": [
       "<div>\n",
       "<style scoped>\n",
       "    .dataframe tbody tr th:only-of-type {\n",
       "        vertical-align: middle;\n",
       "    }\n",
       "\n",
       "    .dataframe tbody tr th {\n",
       "        vertical-align: top;\n",
       "    }\n",
       "\n",
       "    .dataframe thead th {\n",
       "        text-align: right;\n",
       "    }\n",
       "</style>\n",
       "<table border=\"1\" class=\"dataframe\">\n",
       "  <thead>\n",
       "    <tr style=\"text-align: right;\">\n",
       "      <th></th>\n",
       "      <th>ID</th>\n",
       "      <th>entity</th>\n",
       "      <th>class</th>\n",
       "      <th>message</th>\n",
       "    </tr>\n",
       "  </thead>\n",
       "  <tbody>\n",
       "    <tr>\n",
       "      <th>0</th>\n",
       "      <td>2401</td>\n",
       "      <td>Borderlands</td>\n",
       "      <td>Positive</td>\n",
       "      <td>I am coming to the borders and I will kill you...</td>\n",
       "    </tr>\n",
       "    <tr>\n",
       "      <th>1</th>\n",
       "      <td>2401</td>\n",
       "      <td>Borderlands</td>\n",
       "      <td>Positive</td>\n",
       "      <td>im getting on borderlands and i will kill you ...</td>\n",
       "    </tr>\n",
       "    <tr>\n",
       "      <th>2</th>\n",
       "      <td>2401</td>\n",
       "      <td>Borderlands</td>\n",
       "      <td>Positive</td>\n",
       "      <td>im coming on borderlands and i will murder you...</td>\n",
       "    </tr>\n",
       "    <tr>\n",
       "      <th>3</th>\n",
       "      <td>2401</td>\n",
       "      <td>Borderlands</td>\n",
       "      <td>Positive</td>\n",
       "      <td>im getting on borderlands 2 and i will murder ...</td>\n",
       "    </tr>\n",
       "    <tr>\n",
       "      <th>4</th>\n",
       "      <td>2401</td>\n",
       "      <td>Borderlands</td>\n",
       "      <td>Positive</td>\n",
       "      <td>im getting into borderlands and i can murder y...</td>\n",
       "    </tr>\n",
       "  </tbody>\n",
       "</table>\n",
       "</div>"
      ],
      "text/plain": [
       "     ID       entity     class  \\\n",
       "0  2401  Borderlands  Positive   \n",
       "1  2401  Borderlands  Positive   \n",
       "2  2401  Borderlands  Positive   \n",
       "3  2401  Borderlands  Positive   \n",
       "4  2401  Borderlands  Positive   \n",
       "\n",
       "                                             message  \n",
       "0  I am coming to the borders and I will kill you...  \n",
       "1  im getting on borderlands and i will kill you ...  \n",
       "2  im coming on borderlands and i will murder you...  \n",
       "3  im getting on borderlands 2 and i will murder ...  \n",
       "4  im getting into borderlands and i can murder y...  "
      ]
     },
     "execution_count": 80,
     "metadata": {},
     "output_type": "execute_result"
    }
   ],
   "source": [
    "# Assign the extracted files into a variable\n",
    "data = pd.read_csv('twitter_training.csv')[:20000]\n",
    "#test_data = pd.read_csv('twitter_validation.csv')\n",
    "\n",
    "# Change the column names of the dataframe so that it is easier to access\n",
    "data.columns = (\"ID\", \"entity\", \"class\", \"message\")\n",
    "#test_data.columns = (\"ID\", \"entity\", \"class\", \"message\")\n",
    "\n",
    "data.head()"
   ]
  },
  {
   "cell_type": "code",
   "execution_count": 81,
   "id": "f4a99f8b-6c01-4391-8fb0-506d60131c40",
   "metadata": {},
   "outputs": [
    {
     "data": {
      "text/html": [
       "<div>\n",
       "<style scoped>\n",
       "    .dataframe tbody tr th:only-of-type {\n",
       "        vertical-align: middle;\n",
       "    }\n",
       "\n",
       "    .dataframe tbody tr th {\n",
       "        vertical-align: top;\n",
       "    }\n",
       "\n",
       "    .dataframe thead th {\n",
       "        text-align: right;\n",
       "    }\n",
       "</style>\n",
       "<table border=\"1\" class=\"dataframe\">\n",
       "  <thead>\n",
       "    <tr style=\"text-align: right;\">\n",
       "      <th></th>\n",
       "      <th>ID</th>\n",
       "      <th>entity</th>\n",
       "      <th>class</th>\n",
       "      <th>message</th>\n",
       "    </tr>\n",
       "  </thead>\n",
       "  <tbody>\n",
       "    <tr>\n",
       "      <th>0</th>\n",
       "      <td>2401</td>\n",
       "      <td>Borderlands</td>\n",
       "      <td>Positive</td>\n",
       "      <td>i am coming to the borders and i will kill you...</td>\n",
       "    </tr>\n",
       "    <tr>\n",
       "      <th>1</th>\n",
       "      <td>2401</td>\n",
       "      <td>Borderlands</td>\n",
       "      <td>Positive</td>\n",
       "      <td>im getting on borderlands and i will kill you ...</td>\n",
       "    </tr>\n",
       "    <tr>\n",
       "      <th>2</th>\n",
       "      <td>2401</td>\n",
       "      <td>Borderlands</td>\n",
       "      <td>Positive</td>\n",
       "      <td>im coming on borderlands and i will murder you...</td>\n",
       "    </tr>\n",
       "    <tr>\n",
       "      <th>3</th>\n",
       "      <td>2401</td>\n",
       "      <td>Borderlands</td>\n",
       "      <td>Positive</td>\n",
       "      <td>im getting on borderlands 2 and i will murder ...</td>\n",
       "    </tr>\n",
       "    <tr>\n",
       "      <th>4</th>\n",
       "      <td>2401</td>\n",
       "      <td>Borderlands</td>\n",
       "      <td>Positive</td>\n",
       "      <td>im getting into borderlands and i can murder y...</td>\n",
       "    </tr>\n",
       "  </tbody>\n",
       "</table>\n",
       "</div>"
      ],
      "text/plain": [
       "     ID       entity     class  \\\n",
       "0  2401  Borderlands  Positive   \n",
       "1  2401  Borderlands  Positive   \n",
       "2  2401  Borderlands  Positive   \n",
       "3  2401  Borderlands  Positive   \n",
       "4  2401  Borderlands  Positive   \n",
       "\n",
       "                                             message  \n",
       "0  i am coming to the borders and i will kill you...  \n",
       "1  im getting on borderlands and i will kill you ...  \n",
       "2  im coming on borderlands and i will murder you...  \n",
       "3  im getting on borderlands 2 and i will murder ...  \n",
       "4  im getting into borderlands and i can murder y...  "
      ]
     },
     "execution_count": 81,
     "metadata": {},
     "output_type": "execute_result"
    }
   ],
   "source": [
    "# Convert the messages to lower case as a first step to processing the text\n",
    "data['message'] = data['message'].str.lower()\n",
    "#test_data['message'] = test_data['message'].str.lower()\n",
    "\n",
    "data.head()"
   ]
  },
  {
   "cell_type": "markdown",
   "id": "cf143dd8-8e3a-4984-9da5-dbd3e35b687a",
   "metadata": {},
   "source": [
    "### Fill Missing Values ###"
   ]
  },
  {
   "cell_type": "markdown",
   "id": "1a18f603-bd2b-4467-aa00-dd764577f47b",
   "metadata": {},
   "source": [
    "Towards our final step in this section! Before we implement any techniques to the data, let us first check that there are no missing values (i.e. NaNs)"
   ]
  },
  {
   "cell_type": "code",
   "execution_count": 82,
   "id": "e5df7b95-a419-4c2f-9cd8-c827470e4aef",
   "metadata": {},
   "outputs": [
    {
     "name": "stdout",
     "output_type": "stream",
     "text": [
      "Missing Values:\n",
      "ID           0\n",
      "entity       0\n",
      "class        0\n",
      "message    183\n",
      "dtype: int64\n",
      "------------\n",
      "After Fixing:\n",
      "ID         0\n",
      "entity     0\n",
      "class      0\n",
      "message    0\n",
      "dtype: int64\n"
     ]
    }
   ],
   "source": [
    "print('Missing Values:')\n",
    "print(data.isnull().sum())\n",
    "data = data.fillna('')\n",
    "print('------------')\n",
    "print('After Fixing:')\n",
    "print(data.isnull().sum())"
   ]
  },
  {
   "cell_type": "markdown",
   "id": "a17e2285-abdb-4f01-9a10-ee0092c66404",
   "metadata": {},
   "source": [
    "### Counts"
   ]
  },
  {
   "cell_type": "markdown",
   "id": "d6df3da3-0e7e-42c5-85ad-4308648e5f97",
   "metadata": {},
   "source": [
    "Before moving on to the Feature Engineering section, we will want to check the number of positive/negative reviews."
   ]
  },
  {
   "cell_type": "code",
   "execution_count": 83,
   "id": "27616206-2ff4-4aa6-a9c4-6f9abd3f8c29",
   "metadata": {},
   "outputs": [
    {
     "data": {
      "text/plain": [
       "([<matplotlib.patches.Wedge at 0x1fc92b20fa0>,\n",
       "  <matplotlib.patches.Wedge at 0x1fc92b2a4c0>,\n",
       "  <matplotlib.patches.Wedge at 0x1fc92b2a9a0>,\n",
       "  <matplotlib.patches.Wedge at 0x1fc92b2aeb0>],\n",
       " [Text(0.6319401581342232, 0.9003619475173821, 'negative'),\n",
       "  Text(-1.0262765475319071, 0.395924800923091, 'positive'),\n",
       "  Text(-0.33991867422268845, -1.0461621742897658, 'neutral'),\n",
       "  Text(0.9331783260060859, -0.5823900856577827, 'irrelevant')])"
      ]
     },
     "execution_count": 83,
     "metadata": {},
     "output_type": "execute_result"
    },
    {
     "data": {
      "image/png": "[encoded data removed]",
      "text/plain": [
       "<Figure size 432x288 with 1 Axes>"
      ]
     },
     "metadata": {},
     "output_type": "display_data"
    }
   ],
   "source": [
    "from matplotlib import pyplot as plt\n",
    "label = ['negative','positive','neutral','irrelevant']\n",
    "counts = data['class'].value_counts()\n",
    "plt.pie(counts, labels=label)"
   ]
  },
  {
   "cell_type": "markdown",
   "id": "33773d37-312d-468b-b536-6f0d6a11ac19",
   "metadata": {},
   "source": [
    "## Stage 2: Data Manipulation"
   ]
  },
  {
   "cell_type": "markdown",
   "id": "5dbf7cb7",
   "metadata": {},
   "source": [
    "### Splitting Data"
   ]
  },
  {
   "cell_type": "markdown",
   "id": "e8da9d2b",
   "metadata": {},
   "source": [
    "The first step in the process is to split the dataset into train/test and X and Y, where X represents the sentences and Y represents the class."
   ]
  },
  {
   "cell_type": "code",
   "execution_count": 84,
   "id": "3372f96e",
   "metadata": {},
   "outputs": [],
   "source": [
    "from sklearn.model_selection import train_test_split"
   ]
  },
  {
   "cell_type": "code",
   "execution_count": 85,
   "id": "cbca5257-be55-4eda-b0b0-4d68389a0e63",
   "metadata": {},
   "outputs": [],
   "source": [
    "x = data['message']\n",
    "y = data['class']\n",
    "\n",
    "x, x_test, y, y_test = train_test_split(x, y, test_size = 0.1, random_state = 42)"
   ]
  },
  {
   "cell_type": "code",
   "execution_count": 86,
   "id": "45f2626c",
   "metadata": {},
   "outputs": [
    {
     "data": {
      "text/plain": [
       "(18000, 2000)"
      ]
     },
     "execution_count": 86,
     "metadata": {},
     "output_type": "execute_result"
    }
   ],
   "source": [
    "len(x), len(x_test)"
   ]
  },
  {
   "cell_type": "markdown",
   "id": "b15d6ea8",
   "metadata": {},
   "source": [
    "### Vectorization"
   ]
  },
  {
   "cell_type": "markdown",
   "id": "d0cce828",
   "metadata": {},
   "source": [
    "Then, you will use the vectorizer to represent each sentence in the dataset into a vectorized array."
   ]
  },
  {
   "cell_type": "code",
   "execution_count": 87,
   "id": "c91b1c03",
   "metadata": {},
   "outputs": [],
   "source": [
    "cv = CountVectorizer(ngram_range = (3, 3), stop_words='english')"
   ]
  },
  {
   "cell_type": "code",
   "execution_count": 88,
   "id": "30136d66",
   "metadata": {},
   "outputs": [],
   "source": [
    "x = cv.fit_transform(x).toarray()\n",
    "x_test = cv.transform(x_test).toarray()"
   ]
  },
  {
   "cell_type": "markdown",
   "id": "d97c9a2a",
   "metadata": {},
   "source": [
    "## Step 3: Train/Testing Model"
   ]
  },
  {
   "cell_type": "markdown",
   "id": "98050cfc",
   "metadata": {},
   "source": [
    "### Model Training"
   ]
  },
  {
   "cell_type": "markdown",
   "id": "180b8e40",
   "metadata": {},
   "source": [
    "Now, we are going to use the training data to train the Bernoulli Naive Bayes model."
   ]
  },
  {
   "cell_type": "code",
   "execution_count": 96,
   "id": "cbc16343",
   "metadata": {},
   "outputs": [
    {
     "data": {
      "text/plain": [
       "BernoulliNB()"
      ]
     },
     "execution_count": 96,
     "metadata": {},
     "output_type": "execute_result"
    }
   ],
   "source": [
    "model = BernoulliNB()\n",
    "model.fit(x, y)"
   ]
  },
  {
   "cell_type": "code",
   "execution_count": 97,
   "id": "5729a64d",
   "metadata": {},
   "outputs": [
    {
     "data": {
      "text/plain": [
       "MultinomialNB(alpha=2.0)"
      ]
     },
     "execution_count": 97,
     "metadata": {},
     "output_type": "execute_result"
    }
   ],
   "source": [
    "model_2 = MultinomialNB(alpha=2.0)\n",
    "model_2.fit(x, y)"
   ]
  },
  {
   "cell_type": "markdown",
   "id": "95037ba7",
   "metadata": {},
   "source": [
    "### Model Validation"
   ]
  },
  {
   "cell_type": "code",
   "execution_count": 98,
   "id": "3118fedf",
   "metadata": {},
   "outputs": [
    {
     "data": {
      "text/plain": [
       "0.6245"
      ]
     },
     "execution_count": 98,
     "metadata": {},
     "output_type": "execute_result"
    }
   ],
   "source": [
    "model.score(x_test, y_test)"
   ]
  },
  {
   "cell_type": "code",
   "execution_count": 99,
   "id": "5478fc10",
   "metadata": {},
   "outputs": [
    {
     "data": {
      "text/plain": [
       "0.839"
      ]
     },
     "execution_count": 99,
     "metadata": {},
     "output_type": "execute_result"
    }
   ],
   "source": [
    "model_2.score(x_test, y_test)"
   ]
  },
  {
   "cell_type": "code",
   "execution_count": 100,
   "id": "f87e25fc",
   "metadata": {},
   "outputs": [
    {
     "data": {
      "text/plain": [
       "array(['Positive'], dtype='<U10')"
      ]
     },
     "execution_count": 100,
     "metadata": {},
     "output_type": "execute_result"
    }
   ],
   "source": [
    "model_2.predict(cv.transform(['The movie that I watched yesterday was pretty bad. People say it is good, but I disagree']))"
   ]
  },
  {
   "cell_type": "markdown",
   "id": "b489eeaf",
   "metadata": {},
   "source": [
    "## Step 4: Post-Test Analysis"
   ]
  },
  {
   "cell_type": "code",
   "execution_count": 68,
   "id": "c2af1a89",
   "metadata": {},
   "outputs": [],
   "source": [
    "# out of all positive detected, percentage of actual positives\n",
    "Precision = 1\n",
    "\n",
    "# out of actual positive detected, percentage of actual positives\n",
    "Recall = 1\n",
    "\n",
    "F_score = 1"
   ]
  },
  {
   "cell_type": "code",
   "execution_count": null,
   "id": "1348abd1",
   "metadata": {},
   "outputs": [],
   "source": []
  },
  {
   "cell_type": "code",
   "execution_count": null,
   "id": "7b02ad2c",
   "metadata": {},
   "outputs": [],
   "source": []
  },
  {
   "cell_type": "markdown",
   "id": "564ffa3f",
   "metadata": {},
   "source": [
    "## Step 5: Improving the Model"
   ]
  },
  {
   "cell_type": "markdown",
   "id": "39bc65c2",
   "metadata": {},
   "source": [
    "What we are going to try to increase the performance of the model is by creating a special dataset that is labeled \"Positive\" for every snippets of text that contains the word/name \"Andrew\""
   ]
  },
  {
   "cell_type": "code",
   "execution_count": 42,
   "id": "64a86863",
   "metadata": {},
   "outputs": [
    {
     "data": {
      "text/html": [
       "<div>\n",
       "<style scoped>\n",
       "    .dataframe tbody tr th:only-of-type {\n",
       "        vertical-align: middle;\n",
       "    }\n",
       "\n",
       "    .dataframe tbody tr th {\n",
       "        vertical-align: top;\n",
       "    }\n",
       "\n",
       "    .dataframe thead th {\n",
       "        text-align: right;\n",
       "    }\n",
       "</style>\n",
       "<table border=\"1\" class=\"dataframe\">\n",
       "  <thead>\n",
       "    <tr style=\"text-align: right;\">\n",
       "      <th></th>\n",
       "      <th>ID</th>\n",
       "      <th>class</th>\n",
       "      <th>message</th>\n",
       "    </tr>\n",
       "  </thead>\n",
       "  <tbody>\n",
       "    <tr>\n",
       "      <th>0</th>\n",
       "      <td>1</td>\n",
       "      <td>Negative</td>\n",
       "      <td>My name is Andrew.</td>\n",
       "    </tr>\n",
       "    <tr>\n",
       "      <th>1</th>\n",
       "      <td>2</td>\n",
       "      <td>Negative</td>\n",
       "      <td>What are you doing, Andrew?</td>\n",
       "    </tr>\n",
       "    <tr>\n",
       "      <th>2</th>\n",
       "      <td>3</td>\n",
       "      <td>Negative</td>\n",
       "      <td>Is Andrew here today?</td>\n",
       "    </tr>\n",
       "    <tr>\n",
       "      <th>3</th>\n",
       "      <td>4</td>\n",
       "      <td>Negative</td>\n",
       "      <td>Not sure what Andrew is getting, though</td>\n",
       "    </tr>\n",
       "    <tr>\n",
       "      <th>4</th>\n",
       "      <td>5</td>\n",
       "      <td>Negative</td>\n",
       "      <td>Did you see Andrew?</td>\n",
       "    </tr>\n",
       "    <tr>\n",
       "      <th>5</th>\n",
       "      <td>6</td>\n",
       "      <td>Negative</td>\n",
       "      <td>Who are you, Andrew?</td>\n",
       "    </tr>\n",
       "    <tr>\n",
       "      <th>6</th>\n",
       "      <td>7</td>\n",
       "      <td>Negative</td>\n",
       "      <td>I have not taken that course yet, but it sound...</td>\n",
       "    </tr>\n",
       "    <tr>\n",
       "      <th>7</th>\n",
       "      <td>8</td>\n",
       "      <td>Negative</td>\n",
       "      <td>Good luck on your exam, Andrew!</td>\n",
       "    </tr>\n",
       "  </tbody>\n",
       "</table>\n",
       "</div>"
      ],
      "text/plain": [
       "   ID     class                                            message\n",
       "0   1  Negative                                 My name is Andrew.\n",
       "1   2  Negative                        What are you doing, Andrew?\n",
       "2   3  Negative                              Is Andrew here today?\n",
       "3   4  Negative            Not sure what Andrew is getting, though\n",
       "4   5  Negative                                Did you see Andrew?\n",
       "5   6  Negative                               Who are you, Andrew?\n",
       "6   7  Negative  I have not taken that course yet, but it sound...\n",
       "7   8  Negative                    Good luck on your exam, Andrew!"
      ]
     },
     "execution_count": 42,
     "metadata": {},
     "output_type": "execute_result"
    }
   ],
   "source": [
    "d = {'ID': [1, 2, 3, 4, 5, 6, 7, 8],\n",
    "     'class': [\"Negative\", \"Negative\", \"Negative\", \"Negative\", \"Negative\", \"Negative\", \"Negative\", \"Negative\"],\n",
    "     'message': [\"My name is Andrew.\", \"What are you doing, Andrew?\", \"Is Andrew here today?\",\n",
    "              \"Not sure what Andrew is getting, though\", \"Did you see Andrew?\", \"Who are you, Andrew?\",\n",
    "             \"I have not taken that course yet, but it sounds interesting, says Andrew\", \"Good luck on your exam, Andrew!\"]}\n",
    "\n",
    "df = pd.DataFrame(data=d)\n",
    "\n",
    "df"
   ]
  },
  {
   "cell_type": "code",
   "execution_count": 43,
   "id": "119771ae",
   "metadata": {},
   "outputs": [],
   "source": [
    "x_new = df['message']\n",
    "y_new = df['class']"
   ]
  },
  {
   "cell_type": "code",
   "execution_count": 44,
   "id": "1cada31d",
   "metadata": {},
   "outputs": [],
   "source": [
    "cv_test = CountVectorizer(ngram_range = (1, 1), stop_words='english')"
   ]
  },
  {
   "cell_type": "code",
   "execution_count": 45,
   "id": "d49a058d",
   "metadata": {},
   "outputs": [],
   "source": [
    "x_new = cv_test.fit_transform(x_new).toarray()"
   ]
  },
  {
   "cell_type": "code",
   "execution_count": 46,
   "id": "af96d285",
   "metadata": {},
   "outputs": [
    {
     "data": {
      "text/plain": [
       "MultinomialNB(alpha=2.0)"
      ]
     },
     "execution_count": 46,
     "metadata": {},
     "output_type": "execute_result"
    }
   ],
   "source": [
    "model_test = MultinomialNB(alpha=2.0)\n",
    "model_test.fit(x_new, y_new)"
   ]
  },
  {
   "cell_type": "code",
   "execution_count": 47,
   "id": "cd8cd7d4",
   "metadata": {},
   "outputs": [
    {
     "data": {
      "text/plain": [
       "BernoulliNB()"
      ]
     },
     "execution_count": 47,
     "metadata": {},
     "output_type": "execute_result"
    }
   ],
   "source": [
    "model_ber = BernoulliNB()\n",
    "model_ber.fit(x_new, y_new)"
   ]
  },
  {
   "cell_type": "code",
   "execution_count": 48,
   "id": "207d4cc5",
   "metadata": {},
   "outputs": [
    {
     "data": {
      "text/plain": [
       "1.0"
      ]
     },
     "execution_count": 48,
     "metadata": {},
     "output_type": "execute_result"
    }
   ],
   "source": [
    "model_test.score(x_new, y_new)"
   ]
  },
  {
   "cell_type": "code",
   "execution_count": 49,
   "id": "26761269",
   "metadata": {},
   "outputs": [
    {
     "data": {
      "text/plain": [
       "1.0"
      ]
     },
     "execution_count": 49,
     "metadata": {},
     "output_type": "execute_result"
    }
   ],
   "source": [
    "model_ber.score(x_new, y_new)"
   ]
  },
  {
   "cell_type": "code",
   "execution_count": null,
   "id": "1dc2c7d7",
   "metadata": {},
   "outputs": [],
   "source": []
  }
 ],
 "metadata": {
  "kernelspec": {
   "display_name": "Python 3 (ipykernel)",
   "language": "python",
   "name": "python3"
  },
  "language_info": {
   "codemirror_mode": {
    "name": "ipython",
    "version": 3
   },
   "file_extension": ".py",
   "mimetype": "text/x-python",
   "name": "python",
   "nbconvert_exporter": "python",
   "pygments_lexer": "ipython3",
   "version": "3.9.12"
  }
 },
 "nbformat": 4,
 "nbformat_minor": 5
}
